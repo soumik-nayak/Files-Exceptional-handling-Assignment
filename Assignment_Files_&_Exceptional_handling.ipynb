{
  "nbformat": 4,
  "nbformat_minor": 0,
  "metadata": {
    "colab": {
      "provenance": []
    },
    "kernelspec": {
      "name": "python3",
      "display_name": "Python 3"
    },
    "language_info": {
      "name": "python"
    }
  },
  "cells": [
    {
      "cell_type": "markdown",
      "source": [
        "#Files, exceptional handling, logging and memory management Questions"
      ],
      "metadata": {
        "id": "fnAbhVlbTqeN"
      }
    },
    {
      "cell_type": "code",
      "source": [
        "# 1. What is the difference between interpreted and compiled languages\n",
        "# - Interpreted Languages: The code is executed line by line by an interpreter, e.g., Python.\n",
        "# - Compiled Languages: The code is translated into machine code by a compiler before execution, e.g., C.\n",
        "\n",
        "# 2. What is exception handling in Python\n",
        "# - Exception handling in Python involves using try, except, else, and finally blocks to catch and handle errors gracefully.\n",
        "\n",
        "# 3. What is the purpose of the finally block in exception handling\n",
        "# - The finally block is always executed, regardless of whether an exception was raised or not. It’s typically used for cleanup operations (e.g., closing files or releasing resources).\n",
        "\n",
        "# 4. What is logging in Python\n",
        "# - Logging is used to track events or errors in a program. It’s useful for debugging and understanding program flow over time.\n",
        "\n",
        "# 5. What is the significance of the __del__ method in Python\n",
        "# - The __del__ method is the destructor in Python. It is called when an object is about to be destroyed, allowing for cleanup.\n",
        "\n",
        "# 6. What is the difference between import and from ... import in Python\n",
        "# - import imports the whole module, while from ... import imports specific items (e.g., functions, classes) from the module.\n",
        "\n",
        "# 7. How can you handle multiple exceptions in Python\n",
        "# - You can handle multiple exceptions using multiple except blocks or by catching a tuple of exceptions in one block.\n",
        "\n",
        "# 8. What is the purpose of the with statement when handling files in Python\n",
        "# - The with statement automatically handles the opening and closing of files, ensuring the file is closed even if an exception occurs.\n",
        "\n",
        "# 9. What is the difference between multithreading and multiprocessing\n",
        "# - Multithreading: Multiple threads run in a single process, sharing the same memory space.\n",
        "# - Multiprocessing: Multiple processes run independently, each with its own memory space.\n",
        "\n",
        "# 10. What are the advantages of using logging in a program\n",
        "# - Provides a way to track events, debug code, and record useful information about the program’s execution for future analysis.\n",
        "\n",
        "# 11. What is memory management in Python\n",
        "# - Python uses automatic memory management, including garbage collection, to handle memory allocation and deallocation.\n",
        "\n",
        "# 12. What are the basic steps involved in exception handling in Python\n",
        "# - The basic steps are: use try to execute code, use except to catch exceptions, else for code that runs if no exception occurs, and finally for cleanup.\n",
        "\n",
        "# 13. Why is memory management important in Python\n",
        "# - Proper memory management prevents memory leaks, ensures efficient resource usage, and improves program performance.\n",
        "\n",
        "# 14. What is the role of try and except in exception handling\n",
        "# - try block contains the code that might raise an exception, while except handles the exception if it occurs.\n",
        "\n",
        "# 15. How does Python's garbage collection system work\n",
        "# - Python’s garbage collection system automatically frees memory that is no longer in use, mainly using reference counting and a cyclic garbage collector.\n",
        "\n",
        "# 16. What is the purpose of the else block in exception handling\n",
        "# - The else block runs if no exception was raised in the try block, typically used for code that depends on successful execution.\n",
        "\n",
        "# 17. What are the common logging levels in Python\n",
        "# - The common logging levels are: DEBUG, INFO, WARNING, ERROR, and CRITICAL.\n",
        "\n",
        "# 18. What is the difference between os.fork() and multiprocessing in Python\n",
        "# - os.fork() creates a new process by duplicating the current process (available in Unix), while multiprocessing is a higher-level abstraction for creating processes in Python.\n",
        "\n",
        "# 19. What is the importance of closing a file in Python\n",
        "# - Closing a file ensures that all data is written to disk and frees the resources associated with the file.\n",
        "\n",
        "# 20. What is the difference between file.read() and file.readline() in Python\n",
        "# - file.read() reads the entire file content, while file.readline() reads one line at a time.\n",
        "\n",
        "# 21. What is the logging module in Python used for\n",
        "# - The logging module provides a flexible framework for emitting log messages from Python programs.\n",
        "\n",
        "# 22. What is the os module in Python used for in file handling\n",
        "# - The os module provides functions for interacting with the operating system, including file operations like opening, reading, writing, and closing files.\n",
        "\n",
        "# 23. What are the challenges associated with memory management in Python\n",
        "# - Challenges include cyclic references, managing large data in memory, and ensuring timely garbage collection.\n",
        "\n",
        "# 24. How do you raise an exception manually in Python\n",
        "# - You can raise an exception manually using the raise keyword, followed by the exception class or instance.\n",
        "\n",
        "# 25. Why is it important to use multithreading in certain applications?\n",
        "# - Multithreading is crucial in applications that require parallel tasks, such as handling I/O operations, improving responsiveness, and optimizing performance.\n"
      ],
      "metadata": {
        "id": "mAF_zW3kTww5"
      },
      "execution_count": null,
      "outputs": []
    },
    {
      "cell_type": "markdown",
      "source": [
        "# Practical questions"
      ],
      "metadata": {
        "id": "RhUuUzoYUi5o"
      }
    },
    {
      "cell_type": "code",
      "source": [
        "# 1. How can you open a file for writing in Python and write a string to it\n",
        "\n",
        "with open('example.txt', 'w') as file:\n",
        "    file.write(\"This is a test string.\")\n"
      ],
      "metadata": {
        "id": "z3am2LBrUoKD"
      },
      "execution_count": null,
      "outputs": []
    },
    {
      "cell_type": "code",
      "source": [
        "# 2. Write a Python program to read the contents of a file and print each line\n",
        "\n",
        "with open('example.txt', 'r') as file:\n",
        "    for line in file:\n",
        "        print(line)\n"
      ],
      "metadata": {
        "colab": {
          "base_uri": "https://localhost:8080/"
        },
        "id": "I-H0ZbBfVFlw",
        "outputId": "24b2c967-389c-41f7-d30a-2b36e004618b"
      },
      "execution_count": null,
      "outputs": [
        {
          "output_type": "stream",
          "name": "stdout",
          "text": [
            "This is a test string.\n"
          ]
        }
      ]
    },
    {
      "cell_type": "code",
      "source": [
        "# 3. How would you handle a case where the file doesn't exist while trying to open it for reading\n",
        "\n",
        "try:\n",
        "    with open('nonexistent_file.txt', 'r') as file:\n",
        "        content = file.read()\n",
        "except FileNotFoundError:\n",
        "    print(\"File does not exist.\")\n"
      ],
      "metadata": {
        "colab": {
          "base_uri": "https://localhost:8080/"
        },
        "id": "ydjI_yaOVPbK",
        "outputId": "697f4fca-50fe-4057-fe75-803e9c06e9cf"
      },
      "execution_count": null,
      "outputs": [
        {
          "output_type": "stream",
          "name": "stdout",
          "text": [
            "File does not exist.\n"
          ]
        }
      ]
    },
    {
      "cell_type": "code",
      "source": [
        "# 5. How would you catch and handle division by zero error in Python\n",
        "\n",
        "try:\n",
        "    result = 10 / 0\n",
        "except ZeroDivisionError:\n",
        "    print(\"Cannot divide by zero!\")\n"
      ],
      "metadata": {
        "colab": {
          "base_uri": "https://localhost:8080/"
        },
        "id": "SzpLULVWVXZB",
        "outputId": "0710b1c2-5214-416e-c79e-987d7ebdb523"
      },
      "execution_count": null,
      "outputs": [
        {
          "output_type": "stream",
          "name": "stdout",
          "text": [
            "Cannot divide by zero!\n"
          ]
        }
      ]
    },
    {
      "cell_type": "code",
      "source": [
        "# 6. Write a Python program that logs an error message to a log file when a division by zero exception occurs\n",
        "# - Use the `logging` module to log the error message.\n",
        "import logging\n",
        "\n",
        "logging.basicConfig(filename='error.log', level=logging.ERROR)\n",
        "try:\n",
        "    result = 10 / 0\n",
        "except ZeroDivisionError:\n",
        "    logging.error(\"Division by zero occurred!\")\n"
      ],
      "metadata": {
        "colab": {
          "base_uri": "https://localhost:8080/"
        },
        "id": "d4pHZxWcW3in",
        "outputId": "e294f056-14d9-4ed4-f830-bf98d5460067"
      },
      "execution_count": null,
      "outputs": [
        {
          "output_type": "stream",
          "name": "stderr",
          "text": [
            "ERROR:root:Division by zero occurred!\n"
          ]
        }
      ]
    },
    {
      "cell_type": "code",
      "source": [
        "# 7. How do you log information at different levels (INFO, ERROR, WARNING) in Python using the logging module\n",
        "\n",
        "import logging\n",
        "\n",
        "logging.basicConfig(level=logging.DEBUG)\n",
        "logging.info(\"This is an info message\")\n",
        "logging.warning(\"This is a warning message\")\n",
        "logging.error(\"This is an error message\")\n"
      ],
      "metadata": {
        "colab": {
          "base_uri": "https://localhost:8080/"
        },
        "id": "jGv_JpuJYhab",
        "outputId": "55ac796d-af46-49e5-afe0-2ba75466e525"
      },
      "execution_count": null,
      "outputs": [
        {
          "output_type": "stream",
          "name": "stderr",
          "text": [
            "WARNING:root:This is a warning message\n",
            "ERROR:root:This is an error message\n"
          ]
        }
      ]
    },
    {
      "cell_type": "code",
      "source": [
        "# 8. Write a program to handle a file opening error using exception handling\n",
        "\n",
        "try:\n",
        "    with open('nonexistent_file.txt', 'r') as file:\n",
        "        content = file.read()\n",
        "except IOError:\n",
        "    print(\"Error opening the file.\")\n"
      ],
      "metadata": {
        "colab": {
          "base_uri": "https://localhost:8080/"
        },
        "id": "z5G4sAXNYkSw",
        "outputId": "b42e0bca-eec5-488e-d0dc-df6b1e514ead"
      },
      "execution_count": null,
      "outputs": [
        {
          "output_type": "stream",
          "name": "stdout",
          "text": [
            "Error opening the file.\n"
          ]
        }
      ]
    },
    {
      "cell_type": "code",
      "source": [
        "# 9. How can you read a file line by line and store its content in a list in Python\n",
        "\n",
        "lines = []\n",
        "with open('example.txt', 'r') as file:\n",
        "    for line in file:\n",
        "        lines.append(line.strip())\n",
        "print(lines)\n"
      ],
      "metadata": {
        "colab": {
          "base_uri": "https://localhost:8080/"
        },
        "id": "gJVzoiGYYmtT",
        "outputId": "12417d1e-f457-49bc-b33f-49814277fbe0"
      },
      "execution_count": null,
      "outputs": [
        {
          "output_type": "stream",
          "name": "stdout",
          "text": [
            "['This is a test string.']\n"
          ]
        }
      ]
    },
    {
      "cell_type": "code",
      "source": [
        "# 10. How can you append data to an existing file in Python\n",
        "\n",
        "with open('example.txt', 'a') as file:\n",
        "    file.write(\"\\nAppended line\")\n"
      ],
      "metadata": {
        "id": "miXbLRd7Yo3C"
      },
      "execution_count": null,
      "outputs": []
    },
    {
      "cell_type": "code",
      "source": [
        "# 11. Write a Python program that uses a try-except block to handle an error when attempting to access a dictionary key that doesn't exist\n",
        "\n",
        "my_dict = {'key1': 'value1'}\n",
        "try:\n",
        "    print(my_dict['nonexistent_key'])\n",
        "except KeyError:\n",
        "    print(\"Key not found!\")\n"
      ],
      "metadata": {
        "colab": {
          "base_uri": "https://localhost:8080/"
        },
        "id": "8XjZEMQtYx13",
        "outputId": "f8533051-4c97-4238-e543-743551c6a677"
      },
      "execution_count": null,
      "outputs": [
        {
          "output_type": "stream",
          "name": "stdout",
          "text": [
            "Key not found!\n"
          ]
        }
      ]
    },
    {
      "cell_type": "code",
      "source": [
        "# 12. Write a program that demonstrates using multiple except blocks to handle different types of exceptions\n",
        "\n",
        "try:\n",
        "    x = 10 / 0\n",
        "except ZeroDivisionError:\n",
        "    print(\"Cannot divide by zero!\")\n",
        "except TypeError:\n",
        "    print(\"Type error occurred!\")\n"
      ],
      "metadata": {
        "colab": {
          "base_uri": "https://localhost:8080/"
        },
        "id": "Jcfw1VMr4ixM",
        "outputId": "1cf30890-5809-4d5b-b534-3aeda250d3e2"
      },
      "execution_count": null,
      "outputs": [
        {
          "output_type": "stream",
          "name": "stdout",
          "text": [
            "Cannot divide by zero!\n"
          ]
        }
      ]
    },
    {
      "cell_type": "code",
      "source": [
        "# 13. How would you check if a file exists before attempting to read it in Python\n",
        "# - Use `os.path.exists()` to check if the file exists.\n",
        "import os\n",
        "\n",
        "if os.path.exists('example.txt'):\n",
        "    with open('example.txt', 'r') as file:\n",
        "        print(file.read())\n",
        "else:\n",
        "    print(\"File does not exist.\")\n"
      ],
      "metadata": {
        "colab": {
          "base_uri": "https://localhost:8080/"
        },
        "id": "0J3d9nCS4ypw",
        "outputId": "9dd716b5-c55b-4ffb-de7a-1b075a2c8ce5"
      },
      "execution_count": null,
      "outputs": [
        {
          "output_type": "stream",
          "name": "stdout",
          "text": [
            "File does not exist.\n"
          ]
        }
      ]
    },
    {
      "cell_type": "code",
      "source": [
        "# 14. Write a program that uses the logging module to log both informational and error messages\n",
        "# - Use `logging.info()` and `logging.error()` to log messages at different levels.\n",
        "import logging\n",
        "\n",
        "logging.basicConfig(level=logging.DEBUG, filename='app.log')\n",
        "logging.info(\"This is an informational message\")\n",
        "logging.error(\"This is an error message\")\n"
      ],
      "metadata": {
        "colab": {
          "base_uri": "https://localhost:8080/"
        },
        "id": "ohrAk50U46Tv",
        "outputId": "a9cc1a92-34b7-4241-924d-5a409ee98252"
      },
      "execution_count": null,
      "outputs": [
        {
          "output_type": "stream",
          "name": "stderr",
          "text": [
            "ERROR:root:This is an error message\n"
          ]
        }
      ]
    },
    {
      "cell_type": "code",
      "source": [
        "# 15. Write a Python program that prints the content of a file and handles the case when the file is empty\n",
        "# - Check if the file is empty before printing its content.\n",
        "try:\n",
        "    with open('example.txt', 'r') as file:\n",
        "        content = file.read()\n",
        "        if content:\n",
        "            print(content)\n",
        "        else:\n",
        "            print(\"File is empty.\")\n",
        "except FileNotFoundError:\n",
        "    print(\"File not found.\")\n"
      ],
      "metadata": {
        "colab": {
          "base_uri": "https://localhost:8080/"
        },
        "id": "BAbHVACj49-Q",
        "outputId": "4fc858b5-a2ed-4b00-c229-4bd93651b510"
      },
      "execution_count": null,
      "outputs": [
        {
          "output_type": "stream",
          "name": "stdout",
          "text": [
            "File not found.\n"
          ]
        }
      ]
    },
    {
      "cell_type": "code",
      "source": [
        "# 17. Write a Python program to create and write a list of numbers to a file, one number per line\n",
        "\n",
        "numbers = [1, 2, 3, 4, 5]\n",
        "with open('numbers.txt', 'w') as file:\n",
        "    for number in numbers:\n",
        "        file.write(f\"{number}\\n\")\n"
      ],
      "metadata": {
        "id": "MgbQDXkG5CKC"
      },
      "execution_count": null,
      "outputs": []
    },
    {
      "cell_type": "code",
      "source": [
        "# 18. How would you implement a basic logging setup that logs to a file with rotation after 1MB\n",
        "# - Use `logging.handlers.RotatingFileHandler` to implement file rotation.\n",
        "import logging\n",
        "from logging.handlers import RotatingFileHandler\n",
        "\n",
        "handler = RotatingFileHandler('rotating_log.log', maxBytes=1e6, backupCount=3)\n",
        "logging.basicConfig(handlers=[handler], level=logging.INFO)\n",
        "\n",
        "logging.info(\"This is a log message.\")\n"
      ],
      "metadata": {
        "id": "ZTGyDYb_5ECs"
      },
      "execution_count": null,
      "outputs": []
    },
    {
      "cell_type": "code",
      "source": [],
      "metadata": {
        "id": "ChbEU1s25TH_"
      },
      "execution_count": null,
      "outputs": []
    }
  ]
}